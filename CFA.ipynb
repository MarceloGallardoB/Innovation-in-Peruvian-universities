{
 "cells": [
  {
   "cell_type": "code",
   "execution_count": 10,
   "id": "91e5f65e",
   "metadata": {},
   "outputs": [],
   "source": [
    "#!pip install semopy\n",
    "import semopy\n",
    "import pandas as pd\n",
    "from sklearn.cluster import KMeans\n",
    "from sklearn.preprocessing import MinMaxScaler\n",
    "import matplotlib.pyplot as plt\n",
    "from sklearn.metrics import calinski_harabasz_score\n",
    "from sklearn.metrics import silhouette_score\n",
    "import matplotlib.pyplot as plt\n",
    "from mpl_toolkits.mplot3d import Axes3D\n",
    "import pandas as pd\n",
    "import numpy as np\n",
    "import plotly.express as px\n",
    "import pandas as pd\n",
    "from sklearn.datasets import load_iris\n",
    "from sklearn.cluster import KMeans\n",
    "from sklearn.metrics import calinski_harabasz_score\n",
    "from sklearn.metrics import pairwise_distances_argmin_min"
   ]
  },
  {
   "cell_type": "code",
   "execution_count": 2,
   "id": "cdc42a1e",
   "metadata": {},
   "outputs": [],
   "source": [
    "data = pd.read_csv('data_final_file.csv')"
   ]
  },
  {
   "cell_type": "code",
   "execution_count": 3,
   "id": "fb460de6",
   "metadata": {},
   "outputs": [
    {
     "data": {
      "text/html": [
       "<div>\n",
       "<style scoped>\n",
       "    .dataframe tbody tr th:only-of-type {\n",
       "        vertical-align: middle;\n",
       "    }\n",
       "\n",
       "    .dataframe tbody tr th {\n",
       "        vertical-align: top;\n",
       "    }\n",
       "\n",
       "    .dataframe thead th {\n",
       "        text-align: right;\n",
       "    }\n",
       "</style>\n",
       "<table border=\"1\" class=\"dataframe\">\n",
       "  <thead>\n",
       "    <tr style=\"text-align: right;\">\n",
       "      <th></th>\n",
       "      <th>Universidad</th>\n",
       "      <th>Publicaciones</th>\n",
       "      <th>Ratio</th>\n",
       "      <th>Patentes</th>\n",
       "    </tr>\n",
       "  </thead>\n",
       "  <tbody>\n",
       "    <tr>\n",
       "      <th>0</th>\n",
       "      <td>Asociación Civil Universidad de Ciencias y Hum...</td>\n",
       "      <td>413</td>\n",
       "      <td>0.184032</td>\n",
       "      <td>0</td>\n",
       "    </tr>\n",
       "    <tr>\n",
       "      <th>1</th>\n",
       "      <td>Facultad de Teología Pontificia y Civil de Lima</td>\n",
       "      <td>3</td>\n",
       "      <td>0.000000</td>\n",
       "      <td>0</td>\n",
       "    </tr>\n",
       "    <tr>\n",
       "      <th>2</th>\n",
       "      <td>Pontificia Universidad Católica del Perú</td>\n",
       "      <td>4202</td>\n",
       "      <td>0.393372</td>\n",
       "      <td>85</td>\n",
       "    </tr>\n",
       "    <tr>\n",
       "      <th>3</th>\n",
       "      <td>Universidad Andina del Cusco</td>\n",
       "      <td>37</td>\n",
       "      <td>0.285811</td>\n",
       "      <td>2</td>\n",
       "    </tr>\n",
       "    <tr>\n",
       "      <th>4</th>\n",
       "      <td>Universidad Antonio Ruiz de Montoya</td>\n",
       "      <td>24</td>\n",
       "      <td>0.164212</td>\n",
       "      <td>0</td>\n",
       "    </tr>\n",
       "    <tr>\n",
       "      <th>...</th>\n",
       "      <td>...</td>\n",
       "      <td>...</td>\n",
       "      <td>...</td>\n",
       "      <td>...</td>\n",
       "    </tr>\n",
       "    <tr>\n",
       "      <th>85</th>\n",
       "      <td>Universidad Ricardo Palma</td>\n",
       "      <td>403</td>\n",
       "      <td>0.470942</td>\n",
       "      <td>2</td>\n",
       "    </tr>\n",
       "    <tr>\n",
       "      <th>86</th>\n",
       "      <td>Universidad San Ignacio de Loyola S.R.L.</td>\n",
       "      <td>518</td>\n",
       "      <td>0.259578</td>\n",
       "      <td>2</td>\n",
       "    </tr>\n",
       "    <tr>\n",
       "      <th>87</th>\n",
       "      <td>Universidad Señor de Sipán S.A.C.</td>\n",
       "      <td>74</td>\n",
       "      <td>0.377377</td>\n",
       "      <td>1</td>\n",
       "    </tr>\n",
       "    <tr>\n",
       "      <th>88</th>\n",
       "      <td>Universidad Tecnológica de los Andes</td>\n",
       "      <td>37</td>\n",
       "      <td>0.350043</td>\n",
       "      <td>0</td>\n",
       "    </tr>\n",
       "    <tr>\n",
       "      <th>89</th>\n",
       "      <td>Universidad Tecnológica del Perú S.A.C.</td>\n",
       "      <td>94</td>\n",
       "      <td>0.438337</td>\n",
       "      <td>0</td>\n",
       "    </tr>\n",
       "  </tbody>\n",
       "</table>\n",
       "<p>90 rows × 4 columns</p>\n",
       "</div>"
      ],
      "text/plain": [
       "                                          Universidad  Publicaciones  \\\n",
       "0   Asociación Civil Universidad de Ciencias y Hum...            413   \n",
       "1     Facultad de Teología Pontificia y Civil de Lima              3   \n",
       "2            Pontificia Universidad Católica del Perú           4202   \n",
       "3                        Universidad Andina del Cusco             37   \n",
       "4                 Universidad Antonio Ruiz de Montoya             24   \n",
       "..                                                ...            ...   \n",
       "85                          Universidad Ricardo Palma            403   \n",
       "86           Universidad San Ignacio de Loyola S.R.L.            518   \n",
       "87                  Universidad Señor de Sipán S.A.C.             74   \n",
       "88               Universidad Tecnológica de los Andes             37   \n",
       "89            Universidad Tecnológica del Perú S.A.C.             94   \n",
       "\n",
       "       Ratio  Patentes  \n",
       "0   0.184032         0  \n",
       "1   0.000000         0  \n",
       "2   0.393372        85  \n",
       "3   0.285811         2  \n",
       "4   0.164212         0  \n",
       "..       ...       ...  \n",
       "85  0.470942         2  \n",
       "86  0.259578         2  \n",
       "87  0.377377         1  \n",
       "88  0.350043         0  \n",
       "89  0.438337         0  \n",
       "\n",
       "[90 rows x 4 columns]"
      ]
     },
     "execution_count": 3,
     "metadata": {},
     "output_type": "execute_result"
    }
   ],
   "source": [
    "data"
   ]
  },
  {
   "cell_type": "code",
   "execution_count": 4,
   "id": "102c9bb9",
   "metadata": {},
   "outputs": [],
   "source": [
    "# Normalizar datos: x --> x-x_min/x_max-x_min\n",
    "\n",
    "columns_to_normalize = data.iloc[:, 1:4]\n",
    "scaler = MinMaxScaler()\n",
    "data_normalized = scaler.fit_transform(columns_to_normalize)\n",
    "data.iloc[:, 1:4] = data_normalized"
   ]
  },
  {
   "cell_type": "code",
   "execution_count": 7,
   "id": "f4df4723",
   "metadata": {},
   "outputs": [
    {
     "name": "stdout",
     "output_type": "stream",
     "text": [
      "            lval  op           rval  Estimate  Std. Err   z-value   p-value\n",
      "0  Publicaciones   ~     innovacion  1.000000         -         -         -\n",
      "1       Patentes   ~     innovacion  1.758555  1.875177  0.937807  0.348343\n",
      "2          Ratio   ~     innovacion  0.486474  0.302533  1.608004  0.107834\n",
      "3     innovacion  ~~     innovacion  0.006062  0.006814  0.889584  0.373689\n",
      "4       Patentes  ~~       Patentes  0.000000  0.019682       0.0       1.0\n",
      "5  Publicaciones  ~~  Publicaciones  0.018985  0.006965  2.725687  0.006417\n",
      "6          Ratio  ~~          Ratio  0.045442   0.00694  6.548296       0.0\n"
     ]
    }
   ],
   "source": [
    "model = '''\n",
    "    # Definición de las variables observadas y su relación con el factor latente \"innovación\"\n",
    "    innovacion =~ 1 * Publicaciones + b * Patentes + c * Ratio\n",
    "'''\n",
    "\n",
    "# Crea un objeto Model y ajusta el modelo a tus datos\n",
    "cfa_model = semopy.Model(model)\n",
    "cfa_model.fit(data)\n",
    "\n",
    "# Visualiza los resultados del CFA\n",
    "print(cfa_model.inspect())"
   ]
  },
  {
   "cell_type": "code",
   "execution_count": 11,
   "id": "fca33311",
   "metadata": {},
   "outputs": [
    {
     "name": "stdout",
     "output_type": "stream",
     "text": [
      "Variable: Publicaciones\n",
      "Mean: 0.05828594285316776\n",
      "Variance: 0.02504004888297569\n",
      "Standard Deviation: 0.15824047801676944\n",
      "Max Value: 1.0\n",
      "Min Value: 0.0\n",
      "Median: 0.01119110971983096\n",
      "\n",
      "Variable: Ratio\n",
      "Mean: 0.42885143781701723\n",
      "Variance: 0.046883356514464215\n",
      "Standard Deviation: 0.21652564862958895\n",
      "Max Value: 1.0\n",
      "Min Value: 0.0\n",
      "Median: 0.43902175128459925\n",
      "\n",
      "Variable: Patentes\n",
      "Mean: 0.04502923976608187\n",
      "Variance: 0.018751759655334363\n",
      "Standard Deviation: 0.13693706457834695\n",
      "Max Value: 1.0\n",
      "Min Value: 0.0\n",
      "Median: 0.0\n",
      "\n"
     ]
    }
   ],
   "source": [
    "selected_columns = data.iloc[:, 1:4]\n",
    "\n",
    "# Calculate and display mean, variance, and statistics for the selected columns\n",
    "for column in selected_columns.columns:\n",
    "    col_data = selected_columns[column]\n",
    "    mean = np.mean(col_data)\n",
    "    variance = np.var(col_data)\n",
    "    std_dev = np.std(col_data)\n",
    "    max_value = np.max(col_data)\n",
    "    min_value = np.min(col_data)\n",
    "    median = np.median(col_data)\n",
    "\n",
    "    print(f\"Variable: {column}\")\n",
    "    print(f\"Mean: {mean}\")\n",
    "    print(f\"Variance: {variance}\")\n",
    "    print(f\"Standard Deviation: {std_dev}\")\n",
    "    print(f\"Max Value: {max_value}\")\n",
    "    print(f\"Min Value: {min_value}\")\n",
    "    print(f\"Median: {median}\\n\")\n"
   ]
  },
  {
   "cell_type": "code",
   "execution_count": 14,
   "id": "94d6beaf",
   "metadata": {},
   "outputs": [
    {
     "data": {
      "image/png": "[encoded data removed]",
      "text/plain": [
       "<Figure size 640x480 with 1 Axes>"
      ]
     },
     "metadata": {},
     "output_type": "display_data"
    },
    {
     "data": {
      "image/png": "[encoded data removed]",
      "text/plain": [
       "<Figure size 640x480 with 1 Axes>"
      ]
     },
     "metadata": {},
     "output_type": "display_data"
    },
    {
     "data": {
      "image/png": "[encoded data removed]",
      "text/plain": [
       "<Figure size 640x480 with 1 Axes>"
      ]
     },
     "metadata": {},
     "output_type": "display_data"
    }
   ],
   "source": [
    "selected_columns = data.iloc[:, 1:4]\n",
    "\n",
    "# Plot histograms for each selected column in separate subplots\n",
    "for i, column in enumerate(selected_columns.columns):\n",
    "    plt.figure(i)\n",
    "    plt.hist(selected_columns[column], bins=2)\n",
    "    plt.xlabel('Value')\n",
    "    plt.ylabel('Frequency')\n",
    "    plt.title(f'Distribution of {column}')\n",
    "\n",
    "plt.show()\n"
   ]
  },
  {
   "cell_type": "code",
   "execution_count": null,
   "id": "1ebc7a65",
   "metadata": {},
   "outputs": [],
   "source": []
  },
  {
   "cell_type": "code",
   "execution_count": null,
   "id": "f115ac97",
   "metadata": {},
   "outputs": [],
   "source": []
  },
  {
   "cell_type": "code",
   "execution_count": null,
   "id": "7a8f5ed2",
   "metadata": {},
   "outputs": [],
   "source": []
  }
 ],
 "metadata": {
  "kernelspec": {
   "display_name": "Python 3 (ipykernel)",
   "language": "python",
   "name": "python3"
  },
  "language_info": {
   "codemirror_mode": {
    "name": "ipython",
    "version": 3
   },
   "file_extension": ".py",
   "mimetype": "text/x-python",
   "name": "python",
   "nbconvert_exporter": "python",
   "pygments_lexer": "ipython3",
   "version": "3.11.4"
  }
 },
 "nbformat": 4,
 "nbformat_minor": 5
}
